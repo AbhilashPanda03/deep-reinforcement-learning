{
 "cells": [
  {
   "cell_type": "code",
   "execution_count": 2,
   "metadata": {},
   "outputs": [],
   "source": [
    "import numpy as np\n",
    "import gym\n",
    "import random"
   ]
  },
  {
   "cell_type": "code",
   "execution_count": 3,
   "metadata": {},
   "outputs": [
    {
     "name": "stdout",
     "output_type": "stream",
     "text": [
      "\n",
      "\u001b[41mS\u001b[0mFFF\n",
      "FHFH\n",
      "FFFH\n",
      "HFFG\n"
     ]
    }
   ],
   "source": [
    "env=gym.make(\"FrozenLake-v0\")\n",
    "env.render()"
   ]
  },
  {
   "cell_type": "code",
   "execution_count": 4,
   "metadata": {},
   "outputs": [],
   "source": [
    "action_size=env.action_space.n\n",
    "state_size=env.observation_space.n"
   ]
  },
  {
   "cell_type": "code",
   "execution_count": 5,
   "metadata": {},
   "outputs": [
    {
     "name": "stdout",
     "output_type": "stream",
     "text": [
      "[[0. 0. 0. 0.]\n",
      " [0. 0. 0. 0.]\n",
      " [0. 0. 0. 0.]\n",
      " [0. 0. 0. 0.]\n",
      " [0. 0. 0. 0.]\n",
      " [0. 0. 0. 0.]\n",
      " [0. 0. 0. 0.]\n",
      " [0. 0. 0. 0.]\n",
      " [0. 0. 0. 0.]\n",
      " [0. 0. 0. 0.]\n",
      " [0. 0. 0. 0.]\n",
      " [0. 0. 0. 0.]\n",
      " [0. 0. 0. 0.]\n",
      " [0. 0. 0. 0.]\n",
      " [0. 0. 0. 0.]\n",
      " [0. 0. 0. 0.]]\n"
     ]
    }
   ],
   "source": [
    "qtable=np.zeros((state_size,action_size))\n",
    "print(qtable)"
   ]
  },
  {
   "cell_type": "code",
   "execution_count": 6,
   "metadata": {},
   "outputs": [],
   "source": [
    "total_episodes=15000\n",
    "learning_rate=0.8\n",
    "max_steps=99\n",
    "gamma=0.95\n",
    "\n",
    "epsilon=1.0\n",
    "max_epsilon=1.0\n",
    "min_epsilon=0.01\n",
    "decay_rate=0.005"
   ]
  },
  {
   "cell_type": "code",
   "execution_count": 8,
   "metadata": {},
   "outputs": [
    {
     "name": "stdout",
     "output_type": "stream",
     "text": [
      "Score over time: 0.4845333333333333\n",
      "[[2.56645151e-01 8.16957428e-02 5.26924733e-02 5.31675625e-02]\n",
      " [4.83421059e-03 5.34318502e-03 4.73291734e-04 1.96985277e-01]\n",
      " [3.16969247e-03 4.84797957e-02 4.80729287e-03 1.42016744e-02]\n",
      " [3.34354898e-03 3.05509069e-03 1.51676242e-03 1.01439937e-01]\n",
      " [4.17103673e-01 3.79720499e-02 3.80679431e-04 3.76419679e-02]\n",
      " [0.00000000e+00 0.00000000e+00 0.00000000e+00 0.00000000e+00]\n",
      " [8.92196795e-07 1.05546770e-06 3.31276242e-02 1.00920178e-08]\n",
      " [0.00000000e+00 0.00000000e+00 0.00000000e+00 0.00000000e+00]\n",
      " [1.44590794e-02 1.47500590e-02 1.92785076e-01 7.08188759e-01]\n",
      " [2.87980542e-02 5.92127874e-01 2.14138232e-02 4.55905221e-02]\n",
      " [2.44889966e-01 7.53036974e-04 6.68634396e-03 2.29567705e-03]\n",
      " [0.00000000e+00 0.00000000e+00 0.00000000e+00 0.00000000e+00]\n",
      " [0.00000000e+00 0.00000000e+00 0.00000000e+00 0.00000000e+00]\n",
      " [1.15445938e-01 9.94149278e-03 6.72666015e-01 8.22502541e-03]\n",
      " [3.65412549e-01 9.47468020e-01 1.11649940e-01 2.23801996e-01]\n",
      " [0.00000000e+00 0.00000000e+00 0.00000000e+00 0.00000000e+00]]\n"
     ]
    }
   ],
   "source": [
    "rewards=[]\n",
    "\n",
    "for episode in range(total_episodes):\n",
    "    state=env.reset()\n",
    "    step=0\n",
    "    done=False\n",
    "    total_rewards=0\n",
    "    \n",
    "    for step in range(max_steps):\n",
    "        exp_exp_tradeoff=random.uniform(0,1)\n",
    "        \n",
    "        if exp_exp_tradeoff>epsilon:\n",
    "            action=np.argmax(qtable[state,:])\n",
    "        \n",
    "        else:\n",
    "            action=env.action_space.sample()\n",
    "            \n",
    "        new_state,reward,done,info=env.step(action)\n",
    "        \n",
    "        qtable[state, action] = qtable[state, action] + learning_rate * (reward + gamma * np.max(qtable[new_state, :]) - qtable[state, action])\n",
    "        \n",
    "        total_rewards+=reward\n",
    "        \n",
    "        state=new_state\n",
    "        \n",
    "        if done==True:\n",
    "            break\n",
    "            \n",
    "    epsilon = min_epsilon + (max_epsilon - min_epsilon)*np.exp(-decay_rate*episode) \n",
    "    rewards.append(total_rewards)\n",
    "    \n",
    "print(\"Score over time: \"+str(sum(rewards)/total_episodes))\n",
    "print(qtable)"
   ]
  },
  {
   "cell_type": "code",
   "execution_count": 10,
   "metadata": {},
   "outputs": [
    {
     "name": "stdout",
     "output_type": "stream",
     "text": [
      "************************************\n",
      "EPISODE 0\n",
      "  (Down)\n",
      "SFFF\n",
      "FHFH\n",
      "FFFH\n",
      "HFF\u001b[41mG\u001b[0m\n",
      "Number of steps 12\n",
      "************************************\n",
      "EPISODE 1\n",
      "  (Right)\n",
      "SFFF\n",
      "FHF\u001b[41mH\u001b[0m\n",
      "FFFH\n",
      "HFFG\n",
      "Number of steps 55\n",
      "************************************\n",
      "EPISODE 2\n",
      "  (Right)\n",
      "SFFF\n",
      "FHF\u001b[41mH\u001b[0m\n",
      "FFFH\n",
      "HFFG\n",
      "Number of steps 7\n",
      "************************************\n",
      "EPISODE 3\n",
      "  (Down)\n",
      "SFFF\n",
      "FHFH\n",
      "FFFH\n",
      "HFF\u001b[41mG\u001b[0m\n",
      "Number of steps 50\n",
      "************************************\n",
      "EPISODE 4\n",
      "  (Down)\n",
      "SFFF\n",
      "FHFH\n",
      "FFFH\n",
      "HFF\u001b[41mG\u001b[0m\n",
      "Number of steps 22\n"
     ]
    }
   ],
   "source": [
    "env.reset()\n",
    "\n",
    "for episode in range(5):\n",
    "    state=env.reset()\n",
    "    step=0\n",
    "    done=False\n",
    "    print(\"************************************\")\n",
    "    print(\"EPISODE\",episode)\n",
    "    \n",
    "    for step in range(max_steps):\n",
    "        \n",
    "        action=np.argmax(qtable[state,:])\n",
    "        \n",
    "        new_state,reward,done,info=env.step(action)\n",
    "        \n",
    "        if done:\n",
    "            \n",
    "            env.render()\n",
    "            \n",
    "            print(\"Number of steps\",step)\n",
    "            break\n",
    "        state=new_state\n",
    "env.close()"
   ]
  },
  {
   "cell_type": "code",
   "execution_count": null,
   "metadata": {},
   "outputs": [],
   "source": []
  }
 ],
 "metadata": {
  "kernelspec": {
   "display_name": "Python 3",
   "language": "python",
   "name": "python3"
  },
  "language_info": {
   "codemirror_mode": {
    "name": "ipython",
    "version": 3
   },
   "file_extension": ".py",
   "mimetype": "text/x-python",
   "name": "python",
   "nbconvert_exporter": "python",
   "pygments_lexer": "ipython3",
   "version": "3.6.5"
  }
 },
 "nbformat": 4,
 "nbformat_minor": 2
}
